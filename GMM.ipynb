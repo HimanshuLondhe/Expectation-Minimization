{
 "cells": [
  {
   "cell_type": "code",
   "execution_count": null,
   "metadata": {},
   "outputs": [],
   "source": [
    "import numpy as np\n",
    "from sklearn.datasets.samples_generator import make_blobs"
   ]
  },
  {
   "cell_type": "code",
   "execution_count": null,
   "metadata": {},
   "outputs": [],
   "source": [
    "n_samples = 50\n",
    "mean1 = 0\n",
    "mean2 = 5\n",
    "mean3 = 10\n",
    "var1 = 0.1\n",
    "var2 = 0.1\n",
    "var3 = 0.1\n",
    "\n",
    "##3 means and 3 variances. theta initiated to 1/k or 1/3\n",
    "mean_arr = ([0,5,10])\n",
    "var_arr = ([var1,var2,var3])\n",
    "theta = np.array([1/3,1/3,1/3])\n",
    "k =3 \n",
    "\n",
    "## Creating gaussian distribution for 3 clusters with respective means and variances \n",
    "a = np.random.normal(mean1, np.sqrt(var1), 50)\n",
    "b = np.random.normal(mean2, np.sqrt(var2), 50)\n",
    "c = np.random.normal(mean3, np.sqrt(var3), 50)\n",
    "    \n",
    "    \n",
    "X = np.array(list(a) + list(b) + list(c))\n",
    "\n",
    "##selecting random means and variances for the initial step of the EM algorithm \n",
    "mean = np.random.choice(X,k)\n",
    "var = np.random.random_sample(size = 3)\n",
    "np.random.shuffle(X)"
   ]
  },
  {
   "cell_type": "code",
   "execution_count": null,
   "metadata": {},
   "outputs": [],
   "source": [
    "print(mean, var,theta)"
   ]
  },
  {
   "cell_type": "code",
   "execution_count": null,
   "metadata": {},
   "outputs": [],
   "source": [
    "for step in range(5):  \n",
    "    \n",
    "    zn = []\n",
    "      \n",
    "    for j in range(k):\n",
    "        ##  E-STEP\n",
    "        zn.append( 1/(np.sqrt(2*np.pi*var[j])) *  np.exp(-(np.square(X - mean[j])/(2*var[j]))) )\n",
    "    zn = np.array(zn)\n",
    "    \n",
    "    theta_sum = []\n",
    "\n",
    "    for j in range(k):\n",
    "        ## M - STEP\n",
    "        theta_sum.append((zn[j] * theta[j]) / (np.sum([zn[i] * theta[i] for i in range(k)], axis=0)))\n",
    "        theta[j] = np.mean(theta_sum[j])\n",
    "        mean[j] = np.sum(theta_sum[j] * X) / (np.sum(theta_sum[j]))\n",
    "        var[j] = np.sum(theta_sum[j] * np.square(X - mean[j])) / (np.sum(theta_sum[j]))"
   ]
  },
  {
   "cell_type": "code",
   "execution_count": null,
   "metadata": {},
   "outputs": [],
   "source": [
    "len(zn[0])"
   ]
  },
  {
   "cell_type": "code",
   "execution_count": null,
   "metadata": {},
   "outputs": [],
   "source": [
    "mean , var , theta"
   ]
  },
  {
   "cell_type": "code",
   "execution_count": null,
   "metadata": {},
   "outputs": [],
   "source": [
    "mean.sort()\n",
    "var \n",
    "mean"
   ]
  },
  {
   "cell_type": "code",
   "execution_count": null,
   "metadata": {},
   "outputs": [],
   "source": [
    "mean_error = (abs(mean - mean_arr))\n",
    "var_error = (abs(var- var_arr))"
   ]
  },
  {
   "cell_type": "code",
   "execution_count": null,
   "metadata": {},
   "outputs": [],
   "source": [
    "mean_error , var_error"
   ]
  },
  {
   "cell_type": "code",
   "execution_count": null,
   "metadata": {},
   "outputs": [],
   "source": [
    "def pred(zn):\n",
    "    res = []\n",
    "    for f in range (3):\n",
    "        res.append(np.argmax(zn[f]))\n",
    "    return res\n",
    "\n",
    "\n",
    "def accuracy(n, res):\n",
    "    acc = 0\n",
    "    for l in range (3):\n",
    "        if n[l] == res[l]:\n",
    "            acc += 1\n",
    "    return acc/150\n",
    "\n",
    "res = pred(zn[0])\n",
    "accu = accuracy(n,res) \n",
    "print(accu)"
   ]
  }
 ],
 "metadata": {
  "kernelspec": {
   "display_name": "Python 3",
   "language": "python",
   "name": "python3"
  },
  "language_info": {
   "codemirror_mode": {
    "name": "ipython",
    "version": 3
   },
   "file_extension": ".py",
   "mimetype": "text/x-python",
   "name": "python",
   "nbconvert_exporter": "python",
   "pygments_lexer": "ipython3",
   "version": "3.7.4"
  }
 },
 "nbformat": 4,
 "nbformat_minor": 2
}
